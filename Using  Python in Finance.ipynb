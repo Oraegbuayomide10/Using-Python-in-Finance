{
 "cells": [
  {
   "cell_type": "code",
   "execution_count": 1,
   "metadata": {},
   "outputs": [],
   "source": [
    "# Import Libraries\n",
    "import random \n",
    "%matplotlib inline\n",
    "import pandas as pd\n",
    "import numpy as np\n",
    "import quandl\n",
    "import matplotlib.pyplot as plt\n",
    "from pandas_datareader import data as wb # for reading data from the web\n",
    "from scipy import stats\n",
    "import statsmodels.api as sm\n",
    "plt.rcParams['axes.facecolor'] = 'black'\n",
    "plt.rcParams['axes.labelcolor'] = 'white'"
   ]
  },
  {
   "cell_type": "code",
   "execution_count": 2,
   "metadata": {},
   "outputs": [
    {
     "name": "stdout",
     "output_type": "stream",
     "text": [
      "0.5326112382791491\n"
     ]
    }
   ],
   "source": [
    "# create a random number\n",
    "prob = random.random()\n",
    "print(prob)"
   ]
  },
  {
   "cell_type": "code",
   "execution_count": 3,
   "metadata": {},
   "outputs": [
    {
     "name": "stdout",
     "output_type": "stream",
     "text": [
      "[[2 3 8 4 3 3]\n",
      " [6 2 6 7 1 6]\n",
      " [5 1 5 7 7 4]\n",
      " [8 7 4 5 7 7]]\n"
     ]
    }
   ],
   "source": [
    "# Creating random numbers for an array\n",
    "num = np.random.randint(1,9,(4, 6))\n",
    "print(num)"
   ]
  },
  {
   "cell_type": "code",
   "execution_count": 4,
   "metadata": {},
   "outputs": [],
   "source": [
    "# Read in yahoo data from free online financial sources\n",
    "PG = wb.DataReader('PG', data_source='yahoo', start='1995-1-1')"
   ]
  },
  {
   "cell_type": "code",
   "execution_count": 5,
   "metadata": {},
   "outputs": [
    {
     "data": {
      "text/html": [
       "<div>\n",
       "<style scoped>\n",
       "    .dataframe tbody tr th:only-of-type {\n",
       "        vertical-align: middle;\n",
       "    }\n",
       "\n",
       "    .dataframe tbody tr th {\n",
       "        vertical-align: top;\n",
       "    }\n",
       "\n",
       "    .dataframe thead th {\n",
       "        text-align: right;\n",
       "    }\n",
       "</style>\n",
       "<table border=\"1\" class=\"dataframe\">\n",
       "  <thead>\n",
       "    <tr style=\"text-align: right;\">\n",
       "      <th></th>\n",
       "      <th>PG</th>\n",
       "      <th>MSFT</th>\n",
       "      <th>T</th>\n",
       "      <th>F</th>\n",
       "      <th>GE</th>\n",
       "    </tr>\n",
       "    <tr>\n",
       "      <th>Date</th>\n",
       "      <th></th>\n",
       "      <th></th>\n",
       "      <th></th>\n",
       "      <th></th>\n",
       "      <th></th>\n",
       "    </tr>\n",
       "  </thead>\n",
       "  <tbody>\n",
       "    <tr>\n",
       "      <th>1995-01-03</th>\n",
       "      <td>8.261347</td>\n",
       "      <td>2.401030</td>\n",
       "      <td>5.528146</td>\n",
       "      <td>4.242091</td>\n",
       "      <td>4.062095</td>\n",
       "    </tr>\n",
       "    <tr>\n",
       "      <th>1995-01-04</th>\n",
       "      <td>8.195127</td>\n",
       "      <td>2.418484</td>\n",
       "      <td>5.551041</td>\n",
       "      <td>4.356228</td>\n",
       "      <td>4.062095</td>\n",
       "    </tr>\n",
       "    <tr>\n",
       "      <th>1995-01-05</th>\n",
       "      <td>8.079241</td>\n",
       "      <td>2.378592</td>\n",
       "      <td>5.637778</td>\n",
       "      <td>4.318182</td>\n",
       "      <td>4.072051</td>\n",
       "    </tr>\n",
       "    <tr>\n",
       "      <th>1995-01-06</th>\n",
       "      <td>8.095792</td>\n",
       "      <td>2.418484</td>\n",
       "      <td>5.637778</td>\n",
       "      <td>4.318182</td>\n",
       "      <td>4.052139</td>\n",
       "    </tr>\n",
       "    <tr>\n",
       "      <th>1995-01-09</th>\n",
       "      <td>8.062680</td>\n",
       "      <td>2.403525</td>\n",
       "      <td>5.620430</td>\n",
       "      <td>4.394274</td>\n",
       "      <td>4.012317</td>\n",
       "    </tr>\n",
       "    <tr>\n",
       "      <th>...</th>\n",
       "      <td>...</td>\n",
       "      <td>...</td>\n",
       "      <td>...</td>\n",
       "      <td>...</td>\n",
       "      <td>...</td>\n",
       "    </tr>\n",
       "    <tr>\n",
       "      <th>2020-10-02</th>\n",
       "      <td>138.119995</td>\n",
       "      <td>206.190002</td>\n",
       "      <td>28.162167</td>\n",
       "      <td>6.890000</td>\n",
       "      <td>6.390000</td>\n",
       "    </tr>\n",
       "    <tr>\n",
       "      <th>2020-10-05</th>\n",
       "      <td>139.389999</td>\n",
       "      <td>210.380005</td>\n",
       "      <td>28.152348</td>\n",
       "      <td>7.020000</td>\n",
       "      <td>6.410000</td>\n",
       "    </tr>\n",
       "    <tr>\n",
       "      <th>2020-10-06</th>\n",
       "      <td>139.610001</td>\n",
       "      <td>205.910004</td>\n",
       "      <td>28.191624</td>\n",
       "      <td>6.980000</td>\n",
       "      <td>6.170000</td>\n",
       "    </tr>\n",
       "    <tr>\n",
       "      <th>2020-10-07</th>\n",
       "      <td>140.699997</td>\n",
       "      <td>209.830002</td>\n",
       "      <td>28.279999</td>\n",
       "      <td>7.230000</td>\n",
       "      <td>6.310000</td>\n",
       "    </tr>\n",
       "    <tr>\n",
       "      <th>2020-10-08</th>\n",
       "      <td>141.649994</td>\n",
       "      <td>210.580002</td>\n",
       "      <td>28.610001</td>\n",
       "      <td>7.350000</td>\n",
       "      <td>6.650000</td>\n",
       "    </tr>\n",
       "  </tbody>\n",
       "</table>\n",
       "<p>6489 rows × 5 columns</p>\n",
       "</div>"
      ],
      "text/plain": [
       "                    PG        MSFT          T         F        GE\n",
       "Date                                                             \n",
       "1995-01-03    8.261347    2.401030   5.528146  4.242091  4.062095\n",
       "1995-01-04    8.195127    2.418484   5.551041  4.356228  4.062095\n",
       "1995-01-05    8.079241    2.378592   5.637778  4.318182  4.072051\n",
       "1995-01-06    8.095792    2.418484   5.637778  4.318182  4.052139\n",
       "1995-01-09    8.062680    2.403525   5.620430  4.394274  4.012317\n",
       "...                ...         ...        ...       ...       ...\n",
       "2020-10-02  138.119995  206.190002  28.162167  6.890000  6.390000\n",
       "2020-10-05  139.389999  210.380005  28.152348  7.020000  6.410000\n",
       "2020-10-06  139.610001  205.910004  28.191624  6.980000  6.170000\n",
       "2020-10-07  140.699997  209.830002  28.279999  7.230000  6.310000\n",
       "2020-10-08  141.649994  210.580002  28.610001  7.350000  6.650000\n",
       "\n",
       "[6489 rows x 5 columns]"
      ]
     },
     "execution_count": 5,
     "metadata": {},
     "output_type": "execute_result"
    }
   ],
   "source": [
    "# Reading in only major companies adjusted closing value \n",
    "# PG = Procter and Gamble\n",
    "# MSFT = Microsoft\n",
    "# AT&T = T\n",
    "# Ford = F\n",
    "# General Electric = GE\n",
    "\n",
    "companies = ['PG', 'MSFT', 'T', 'F', 'GE']\n",
    "new_data= pd.DataFrame()\n",
    "for company in companies:\n",
    "    new_data[company] = wb.DataReader(company, \n",
    "                                      data_source='yahoo',\n",
    "                                     start='1995-1-1')['Adj Close']\n",
    "    \n",
    "new_data"
   ]
  },
  {
   "cell_type": "code",
   "execution_count": 6,
   "metadata": {},
   "outputs": [
    {
     "data": {
      "text/html": [
       "<div>\n",
       "<style scoped>\n",
       "    .dataframe tbody tr th:only-of-type {\n",
       "        vertical-align: middle;\n",
       "    }\n",
       "\n",
       "    .dataframe tbody tr th {\n",
       "        vertical-align: top;\n",
       "    }\n",
       "\n",
       "    .dataframe thead th {\n",
       "        text-align: right;\n",
       "    }\n",
       "</style>\n",
       "<table border=\"1\" class=\"dataframe\">\n",
       "  <thead>\n",
       "    <tr style=\"text-align: right;\">\n",
       "      <th></th>\n",
       "      <th>Value</th>\n",
       "    </tr>\n",
       "    <tr>\n",
       "      <th>Date</th>\n",
       "      <th></th>\n",
       "    </tr>\n",
       "  </thead>\n",
       "  <tbody>\n",
       "    <tr>\n",
       "      <th>1947-01-01</th>\n",
       "      <td>243.164</td>\n",
       "    </tr>\n",
       "    <tr>\n",
       "      <th>1947-04-01</th>\n",
       "      <td>245.968</td>\n",
       "    </tr>\n",
       "    <tr>\n",
       "      <th>1947-07-01</th>\n",
       "      <td>249.585</td>\n",
       "    </tr>\n",
       "    <tr>\n",
       "      <th>1947-10-01</th>\n",
       "      <td>259.745</td>\n",
       "    </tr>\n",
       "    <tr>\n",
       "      <th>1948-01-01</th>\n",
       "      <td>265.742</td>\n",
       "    </tr>\n",
       "    <tr>\n",
       "      <th>...</th>\n",
       "      <td>...</td>\n",
       "    </tr>\n",
       "    <tr>\n",
       "      <th>2019-04-01</th>\n",
       "      <td>21329.877</td>\n",
       "    </tr>\n",
       "    <tr>\n",
       "      <th>2019-07-01</th>\n",
       "      <td>21540.325</td>\n",
       "    </tr>\n",
       "    <tr>\n",
       "      <th>2019-10-01</th>\n",
       "      <td>21747.394</td>\n",
       "    </tr>\n",
       "    <tr>\n",
       "      <th>2020-01-01</th>\n",
       "      <td>21561.139</td>\n",
       "    </tr>\n",
       "    <tr>\n",
       "      <th>2020-04-01</th>\n",
       "      <td>19520.114</td>\n",
       "    </tr>\n",
       "  </tbody>\n",
       "</table>\n",
       "<p>294 rows × 1 columns</p>\n",
       "</div>"
      ],
      "text/plain": [
       "                Value\n",
       "Date                 \n",
       "1947-01-01    243.164\n",
       "1947-04-01    245.968\n",
       "1947-07-01    249.585\n",
       "1947-10-01    259.745\n",
       "1948-01-01    265.742\n",
       "...               ...\n",
       "2019-04-01  21329.877\n",
       "2019-07-01  21540.325\n",
       "2019-10-01  21747.394\n",
       "2020-01-01  21561.139\n",
       "2020-04-01  19520.114\n",
       "\n",
       "[294 rows x 1 columns]"
      ]
     },
     "execution_count": 6,
     "metadata": {},
     "output_type": "execute_result"
    }
   ],
   "source": [
    "# Read in FRED/GDP data from quandl\n",
    "data = quandl.get('FRED/GDP')\n",
    "data"
   ]
  },
  {
   "cell_type": "markdown",
   "metadata": {},
   "source": [
    "### Calculate Rate of Return"
   ]
  },
  {
   "cell_type": "code",
   "execution_count": 7,
   "metadata": {},
   "outputs": [
    {
     "data": {
      "text/html": [
       "<div>\n",
       "<style scoped>\n",
       "    .dataframe tbody tr th:only-of-type {\n",
       "        vertical-align: middle;\n",
       "    }\n",
       "\n",
       "    .dataframe tbody tr th {\n",
       "        vertical-align: top;\n",
       "    }\n",
       "\n",
       "    .dataframe thead th {\n",
       "        text-align: right;\n",
       "    }\n",
       "</style>\n",
       "<table border=\"1\" class=\"dataframe\">\n",
       "  <thead>\n",
       "    <tr style=\"text-align: right;\">\n",
       "      <th></th>\n",
       "      <th>High</th>\n",
       "      <th>Low</th>\n",
       "      <th>Open</th>\n",
       "      <th>Close</th>\n",
       "      <th>Volume</th>\n",
       "      <th>Adj Close</th>\n",
       "      <th>simple_return</th>\n",
       "    </tr>\n",
       "    <tr>\n",
       "      <th>Date</th>\n",
       "      <th></th>\n",
       "      <th></th>\n",
       "      <th></th>\n",
       "      <th></th>\n",
       "      <th></th>\n",
       "      <th></th>\n",
       "      <th></th>\n",
       "    </tr>\n",
       "  </thead>\n",
       "  <tbody>\n",
       "    <tr>\n",
       "      <th>1995-01-03</th>\n",
       "      <td>15.625000</td>\n",
       "      <td>15.437500</td>\n",
       "      <td>15.468750</td>\n",
       "      <td>15.593750</td>\n",
       "      <td>3318400.0</td>\n",
       "      <td>8.261347</td>\n",
       "      <td>NaN</td>\n",
       "    </tr>\n",
       "    <tr>\n",
       "      <th>1995-01-04</th>\n",
       "      <td>15.656250</td>\n",
       "      <td>15.312500</td>\n",
       "      <td>15.531250</td>\n",
       "      <td>15.468750</td>\n",
       "      <td>2218800.0</td>\n",
       "      <td>8.195127</td>\n",
       "      <td>-0.008016</td>\n",
       "    </tr>\n",
       "    <tr>\n",
       "      <th>1995-01-05</th>\n",
       "      <td>15.437500</td>\n",
       "      <td>15.218750</td>\n",
       "      <td>15.375000</td>\n",
       "      <td>15.250000</td>\n",
       "      <td>2319600.0</td>\n",
       "      <td>8.079241</td>\n",
       "      <td>-0.014141</td>\n",
       "    </tr>\n",
       "    <tr>\n",
       "      <th>1995-01-06</th>\n",
       "      <td>15.406250</td>\n",
       "      <td>15.156250</td>\n",
       "      <td>15.156250</td>\n",
       "      <td>15.281250</td>\n",
       "      <td>3438000.0</td>\n",
       "      <td>8.095792</td>\n",
       "      <td>0.002049</td>\n",
       "    </tr>\n",
       "    <tr>\n",
       "      <th>1995-01-09</th>\n",
       "      <td>15.406250</td>\n",
       "      <td>15.187500</td>\n",
       "      <td>15.343750</td>\n",
       "      <td>15.218750</td>\n",
       "      <td>1795200.0</td>\n",
       "      <td>8.062680</td>\n",
       "      <td>-0.004090</td>\n",
       "    </tr>\n",
       "    <tr>\n",
       "      <th>...</th>\n",
       "      <td>...</td>\n",
       "      <td>...</td>\n",
       "      <td>...</td>\n",
       "      <td>...</td>\n",
       "      <td>...</td>\n",
       "      <td>...</td>\n",
       "      <td>...</td>\n",
       "    </tr>\n",
       "    <tr>\n",
       "      <th>2020-10-02</th>\n",
       "      <td>139.119995</td>\n",
       "      <td>136.949997</td>\n",
       "      <td>137.929993</td>\n",
       "      <td>138.119995</td>\n",
       "      <td>6077900.0</td>\n",
       "      <td>138.119995</td>\n",
       "      <td>-0.008044</td>\n",
       "    </tr>\n",
       "    <tr>\n",
       "      <th>2020-10-05</th>\n",
       "      <td>139.649994</td>\n",
       "      <td>138.300003</td>\n",
       "      <td>138.720001</td>\n",
       "      <td>139.389999</td>\n",
       "      <td>6333900.0</td>\n",
       "      <td>139.389999</td>\n",
       "      <td>0.009195</td>\n",
       "    </tr>\n",
       "    <tr>\n",
       "      <th>2020-10-06</th>\n",
       "      <td>140.770004</td>\n",
       "      <td>138.809998</td>\n",
       "      <td>139.419998</td>\n",
       "      <td>139.610001</td>\n",
       "      <td>6042900.0</td>\n",
       "      <td>139.610001</td>\n",
       "      <td>0.001578</td>\n",
       "    </tr>\n",
       "    <tr>\n",
       "      <th>2020-10-07</th>\n",
       "      <td>141.389999</td>\n",
       "      <td>139.369995</td>\n",
       "      <td>140.080002</td>\n",
       "      <td>140.699997</td>\n",
       "      <td>4640900.0</td>\n",
       "      <td>140.699997</td>\n",
       "      <td>0.007807</td>\n",
       "    </tr>\n",
       "    <tr>\n",
       "      <th>2020-10-08</th>\n",
       "      <td>141.929993</td>\n",
       "      <td>140.363495</td>\n",
       "      <td>140.559998</td>\n",
       "      <td>141.649994</td>\n",
       "      <td>4569561.0</td>\n",
       "      <td>141.649994</td>\n",
       "      <td>0.006752</td>\n",
       "    </tr>\n",
       "  </tbody>\n",
       "</table>\n",
       "<p>6489 rows × 7 columns</p>\n",
       "</div>"
      ],
      "text/plain": [
       "                  High         Low        Open       Close     Volume  \\\n",
       "Date                                                                    \n",
       "1995-01-03   15.625000   15.437500   15.468750   15.593750  3318400.0   \n",
       "1995-01-04   15.656250   15.312500   15.531250   15.468750  2218800.0   \n",
       "1995-01-05   15.437500   15.218750   15.375000   15.250000  2319600.0   \n",
       "1995-01-06   15.406250   15.156250   15.156250   15.281250  3438000.0   \n",
       "1995-01-09   15.406250   15.187500   15.343750   15.218750  1795200.0   \n",
       "...                ...         ...         ...         ...        ...   \n",
       "2020-10-02  139.119995  136.949997  137.929993  138.119995  6077900.0   \n",
       "2020-10-05  139.649994  138.300003  138.720001  139.389999  6333900.0   \n",
       "2020-10-06  140.770004  138.809998  139.419998  139.610001  6042900.0   \n",
       "2020-10-07  141.389999  139.369995  140.080002  140.699997  4640900.0   \n",
       "2020-10-08  141.929993  140.363495  140.559998  141.649994  4569561.0   \n",
       "\n",
       "             Adj Close  simple_return  \n",
       "Date                                   \n",
       "1995-01-03    8.261347            NaN  \n",
       "1995-01-04    8.195127      -0.008016  \n",
       "1995-01-05    8.079241      -0.014141  \n",
       "1995-01-06    8.095792       0.002049  \n",
       "1995-01-09    8.062680      -0.004090  \n",
       "...                ...            ...  \n",
       "2020-10-02  138.119995      -0.008044  \n",
       "2020-10-05  139.389999       0.009195  \n",
       "2020-10-06  139.610001       0.001578  \n",
       "2020-10-07  140.699997       0.007807  \n",
       "2020-10-08  141.649994       0.006752  \n",
       "\n",
       "[6489 rows x 7 columns]"
      ]
     },
     "execution_count": 7,
     "metadata": {},
     "output_type": "execute_result"
    }
   ],
   "source": [
    "# calculate security rate of return for each day \n",
    "# using the simpler formula ((today's price / yesterday's price)- 1)\n",
    "\n",
    "PG['simple_return'] = (PG['Adj Close']/PG['Adj Close'].shift(1))-1\n",
    "PG"
   ]
  },
  {
   "cell_type": "code",
   "execution_count": 8,
   "metadata": {},
   "outputs": [
    {
     "data": {
      "image/png": "[encoded data removed]",
      "text/plain": [
       "<Figure size 1296x864 with 1 Axes>"
      ]
     },
     "metadata": {
      "needs_background": "light"
     },
     "output_type": "display_data"
    }
   ],
   "source": [
    "# Visualize the rate of return\n",
    "PG['simple_return'].plot(figsize=(18, 12))\n",
    "plt.show()\n",
    "\n",
    "# Note: A fall in rate of return leads to a decrease in stock price, \n",
    "# while a rise in rate of return leads to an increase in stock price"
   ]
  },
  {
   "cell_type": "code",
   "execution_count": 9,
   "metadata": {},
   "outputs": [
    {
     "data": {
      "text/plain": [
       "0.000540949473205826"
      ]
     },
     "execution_count": 9,
     "metadata": {},
     "output_type": "execute_result"
    }
   ],
   "source": [
    "# Calculate the average rate of return daily the whole period\n",
    "daily_avg_rate_return = PG['simple_return'].mean()\n",
    "daily_avg_rate_return"
   ]
  },
  {
   "cell_type": "code",
   "execution_count": 10,
   "metadata": {},
   "outputs": [
    {
     "data": {
      "text/plain": [
       "0.1352373683014565"
      ]
     },
     "execution_count": 10,
     "metadata": {},
     "output_type": "execute_result"
    }
   ],
   "source": [
    "# This is been multiplied by 250 because not all days are stocks bought and sold e.g saturday, sunday and holidays\n",
    "annual_avg_rate_return = PG['simple_return'].mean()*250\n",
    "annual_avg_rate_return"
   ]
  },
  {
   "cell_type": "code",
   "execution_count": 11,
   "metadata": {},
   "outputs": [
    {
     "name": "stdout",
     "output_type": "stream",
     "text": [
      "13.524%\n"
     ]
    }
   ],
   "source": [
    "# Convert this value to percentage - it is possible one have an average rate of return of 13.434% for that year \n",
    "percent_avg_rate_return = str(round(annual_avg_rate_return, 5) * 100) + '%'\n",
    "print(percent_avg_rate_return)"
   ]
  },
  {
   "cell_type": "markdown",
   "metadata": {},
   "source": [
    "### Observing Historical Behaviour of Stocks(Assests)"
   ]
  },
  {
   "cell_type": "code",
   "execution_count": 12,
   "metadata": {},
   "outputs": [
    {
     "data": {
      "image/png": "[encoded data removed]",
      "text/plain": [
       "<Figure size 1080x864 with 1 Axes>"
      ]
     },
     "metadata": {
      "needs_background": "light"
     },
     "output_type": "display_data"
    }
   ],
   "source": [
    "# Using new data a dataframe with multiple assests created above\n",
    "plt.rcParams['axes.facecolor'] = 'black'\n",
    "plt.rcParams['axes.labelcolor'] = 'white'\n",
    "(new_data/new_data.iloc[0] * 100).plot(figsize=(15, 12))\n",
    "plt.show()\n",
    "# Firstly, the first row would be normalised, so all stocks start from the same starting point\n"
   ]
  },
  {
   "cell_type": "markdown",
   "metadata": {},
   "source": [
    "### Calculating the Return of Indices using Stock Indices"
   ]
  },
  {
   "cell_type": "code",
   "execution_count": 13,
   "metadata": {},
   "outputs": [
    {
     "data": {
      "text/html": [
       "<div>\n",
       "<style scoped>\n",
       "    .dataframe tbody tr th:only-of-type {\n",
       "        vertical-align: middle;\n",
       "    }\n",
       "\n",
       "    .dataframe tbody tr th {\n",
       "        vertical-align: top;\n",
       "    }\n",
       "\n",
       "    .dataframe thead th {\n",
       "        text-align: right;\n",
       "    }\n",
       "</style>\n",
       "<table border=\"1\" class=\"dataframe\">\n",
       "  <thead>\n",
       "    <tr style=\"text-align: right;\">\n",
       "      <th></th>\n",
       "      <th>^GSPC</th>\n",
       "      <th>^IXIC</th>\n",
       "      <th>^GDAXI</th>\n",
       "    </tr>\n",
       "    <tr>\n",
       "      <th>Date</th>\n",
       "      <th></th>\n",
       "      <th></th>\n",
       "      <th></th>\n",
       "    </tr>\n",
       "  </thead>\n",
       "  <tbody>\n",
       "    <tr>\n",
       "      <th>1997-01-02</th>\n",
       "      <td>737.010010</td>\n",
       "      <td>1280.699951</td>\n",
       "      <td>2820.810059</td>\n",
       "    </tr>\n",
       "    <tr>\n",
       "      <th>1997-01-03</th>\n",
       "      <td>748.030029</td>\n",
       "      <td>1310.680054</td>\n",
       "      <td>2863.260010</td>\n",
       "    </tr>\n",
       "  </tbody>\n",
       "</table>\n",
       "</div>"
      ],
      "text/plain": [
       "                 ^GSPC        ^IXIC       ^GDAXI\n",
       "Date                                            \n",
       "1997-01-02  737.010010  1280.699951  2820.810059\n",
       "1997-01-03  748.030029  1310.680054  2863.260010"
      ]
     },
     "execution_count": 13,
     "metadata": {},
     "output_type": "execute_result"
    }
   ],
   "source": [
    "# Meaning of each stock\n",
    "# S&P500 = '^GSPC', \n",
    "# NASDAQ = '^IXIC',\n",
    "# GermanDAX ='^GDAXI'\n",
    "\n",
    "stocks = ['^GSPC', '^IXIC', '^GDAXI']\n",
    "stock_data = pd.DataFrame()\n",
    "for stock in stocks:\n",
    "    stock_data[stock] = wb.DataReader(stock, data_source='yahoo',\n",
    "                                      start= '1997-1-1')['Adj Close']\n",
    "stock_data.head(2)"
   ]
  },
  {
   "cell_type": "code",
   "execution_count": 14,
   "metadata": {},
   "outputs": [
    {
     "data": {
      "text/plain": [
       "<matplotlib.axes._subplots.AxesSubplot at 0x1a63efd0d00>"
      ]
     },
     "execution_count": 14,
     "metadata": {},
     "output_type": "execute_result"
    },
    {
     "data": {
      "image/png": "[encoded data removed]",
      "text/plain": [
       "<Figure size 1080x864 with 1 Axes>"
      ]
     },
     "metadata": {
      "needs_background": "light"
     },
     "output_type": "display_data"
    }
   ],
   "source": [
    "# View the behaviour of each stock\n",
    "(stock_data/stock_data.iloc[0] * 100).plot(figsize=(15, 12))"
   ]
  },
  {
   "cell_type": "code",
   "execution_count": 15,
   "metadata": {},
   "outputs": [
    {
     "data": {
      "text/html": [
       "<div>\n",
       "<style scoped>\n",
       "    .dataframe tbody tr th:only-of-type {\n",
       "        vertical-align: middle;\n",
       "    }\n",
       "\n",
       "    .dataframe tbody tr th {\n",
       "        vertical-align: top;\n",
       "    }\n",
       "\n",
       "    .dataframe thead th {\n",
       "        text-align: right;\n",
       "    }\n",
       "</style>\n",
       "<table border=\"1\" class=\"dataframe\">\n",
       "  <thead>\n",
       "    <tr style=\"text-align: right;\">\n",
       "      <th></th>\n",
       "      <th>^GSPC</th>\n",
       "      <th>^IXIC</th>\n",
       "      <th>^GDAXI</th>\n",
       "    </tr>\n",
       "    <tr>\n",
       "      <th>Date</th>\n",
       "      <th></th>\n",
       "      <th></th>\n",
       "      <th></th>\n",
       "    </tr>\n",
       "  </thead>\n",
       "  <tbody>\n",
       "    <tr>\n",
       "      <th>1997-01-02</th>\n",
       "      <td>NaN</td>\n",
       "      <td>NaN</td>\n",
       "      <td>NaN</td>\n",
       "    </tr>\n",
       "    <tr>\n",
       "      <th>1997-01-03</th>\n",
       "      <td>0.014952</td>\n",
       "      <td>0.023409</td>\n",
       "      <td>0.015049</td>\n",
       "    </tr>\n",
       "    <tr>\n",
       "      <th>1997-01-06</th>\n",
       "      <td>-0.000508</td>\n",
       "      <td>0.004364</td>\n",
       "      <td>0.009409</td>\n",
       "    </tr>\n",
       "    <tr>\n",
       "      <th>1997-01-07</th>\n",
       "      <td>0.007463</td>\n",
       "      <td>0.008607</td>\n",
       "      <td>-0.004795</td>\n",
       "    </tr>\n",
       "    <tr>\n",
       "      <th>1997-01-08</th>\n",
       "      <td>-0.006399</td>\n",
       "      <td>-0.005558</td>\n",
       "      <td>0.009644</td>\n",
       "    </tr>\n",
       "  </tbody>\n",
       "</table>\n",
       "</div>"
      ],
      "text/plain": [
       "               ^GSPC     ^IXIC    ^GDAXI\n",
       "Date                                    \n",
       "1997-01-02       NaN       NaN       NaN\n",
       "1997-01-03  0.014952  0.023409  0.015049\n",
       "1997-01-06 -0.000508  0.004364  0.009409\n",
       "1997-01-07  0.007463  0.008607 -0.004795\n",
       "1997-01-08 -0.006399 -0.005558  0.009644"
      ]
     },
     "execution_count": 15,
     "metadata": {},
     "output_type": "execute_result"
    }
   ],
   "source": [
    "# Calculating daily return\n",
    "daily_stock_return = (stock_data/stock_data.shift(1))-1\n",
    "daily_stock_return.head()"
   ]
  },
  {
   "cell_type": "code",
   "execution_count": 16,
   "metadata": {},
   "outputs": [
    {
     "data": {
      "text/plain": [
       "^GSPC     0.083962\n",
       "^IXIC     0.123335\n",
       "^GDAXI    0.077506\n",
       "dtype: float64"
      ]
     },
     "execution_count": 16,
     "metadata": {},
     "output_type": "execute_result"
    }
   ],
   "source": [
    "# Calculating Annual average Return\n",
    "annual_stock_return = daily_stock_return.mean()*250\n",
    "annual_stock_return"
   ]
  },
  {
   "cell_type": "markdown",
   "metadata": {},
   "source": [
    "### Calculating the Risk of a Security\n",
    "\n",
    "* The risk of a security can be calculated using both mean, variance and standard deviation"
   ]
  },
  {
   "cell_type": "code",
   "execution_count": 17,
   "metadata": {},
   "outputs": [
    {
     "data": {
      "text/html": [
       "<div>\n",
       "<style scoped>\n",
       "    .dataframe tbody tr th:only-of-type {\n",
       "        vertical-align: middle;\n",
       "    }\n",
       "\n",
       "    .dataframe tbody tr th {\n",
       "        vertical-align: top;\n",
       "    }\n",
       "\n",
       "    .dataframe thead th {\n",
       "        text-align: right;\n",
       "    }\n",
       "</style>\n",
       "<table border=\"1\" class=\"dataframe\">\n",
       "  <thead>\n",
       "    <tr style=\"text-align: right;\">\n",
       "      <th></th>\n",
       "      <th>PG</th>\n",
       "      <th>MSFT</th>\n",
       "      <th>T</th>\n",
       "      <th>F</th>\n",
       "      <th>GE</th>\n",
       "    </tr>\n",
       "    <tr>\n",
       "      <th>Date</th>\n",
       "      <th></th>\n",
       "      <th></th>\n",
       "      <th></th>\n",
       "      <th></th>\n",
       "      <th></th>\n",
       "    </tr>\n",
       "  </thead>\n",
       "  <tbody>\n",
       "    <tr>\n",
       "      <th>1995-01-03</th>\n",
       "      <td>NaN</td>\n",
       "      <td>NaN</td>\n",
       "      <td>NaN</td>\n",
       "      <td>NaN</td>\n",
       "      <td>NaN</td>\n",
       "    </tr>\n",
       "    <tr>\n",
       "      <th>1995-01-04</th>\n",
       "      <td>-0.008016</td>\n",
       "      <td>0.007269</td>\n",
       "      <td>0.004142</td>\n",
       "      <td>0.026906</td>\n",
       "      <td>0.000000</td>\n",
       "    </tr>\n",
       "    <tr>\n",
       "      <th>1995-01-05</th>\n",
       "      <td>-0.014141</td>\n",
       "      <td>-0.016495</td>\n",
       "      <td>0.015625</td>\n",
       "      <td>-0.008734</td>\n",
       "      <td>0.002451</td>\n",
       "    </tr>\n",
       "    <tr>\n",
       "      <th>1995-01-06</th>\n",
       "      <td>0.002049</td>\n",
       "      <td>0.016771</td>\n",
       "      <td>0.000000</td>\n",
       "      <td>0.000000</td>\n",
       "      <td>-0.004890</td>\n",
       "    </tr>\n",
       "  </tbody>\n",
       "</table>\n",
       "</div>"
      ],
      "text/plain": [
       "                  PG      MSFT         T         F        GE\n",
       "Date                                                        \n",
       "1995-01-03       NaN       NaN       NaN       NaN       NaN\n",
       "1995-01-04 -0.008016  0.007269  0.004142  0.026906  0.000000\n",
       "1995-01-05 -0.014141 -0.016495  0.015625 -0.008734  0.002451\n",
       "1995-01-06  0.002049  0.016771  0.000000  0.000000 -0.004890"
      ]
     },
     "execution_count": 17,
     "metadata": {},
     "output_type": "execute_result"
    }
   ],
   "source": [
    "# Calculating returns of a security\n",
    "returns_risk = (new_data/new_data.shift(1))-1\n",
    "returns_risk.head(4)"
   ]
  },
  {
   "cell_type": "code",
   "execution_count": 18,
   "metadata": {},
   "outputs": [
    {
     "data": {
      "text/plain": [
       "PG      0.135237\n",
       "MSFT    0.222551\n",
       "T       0.098064\n",
       "F       0.100844\n",
       "GE      0.070002\n",
       "dtype: float64"
      ]
     },
     "execution_count": 18,
     "metadata": {},
     "output_type": "execute_result"
    }
   ],
   "source": [
    "# Calculating the mean annual returns\n",
    "returns_risk[['PG', 'MSFT', 'T', 'F','GE']].mean() * 250"
   ]
  },
  {
   "cell_type": "code",
   "execution_count": 19,
   "metadata": {},
   "outputs": [
    {
     "data": {
      "text/plain": [
       "PG      0.224744\n",
       "MSFT    0.316804\n",
       "T       0.263648\n",
       "F       0.400402\n",
       "GE      0.319703\n",
       "dtype: float64"
      ]
     },
     "execution_count": 19,
     "metadata": {},
     "output_type": "execute_result"
    }
   ],
   "source": [
    "# Calculating the risk (volatility) of a stock using standard deviation\n",
    "returns_risk[['PG', 'MSFT', 'T', 'F','GE']].std() * 250 ** 0.5"
   ]
  },
  {
   "cell_type": "markdown",
   "metadata": {},
   "source": [
    "### Relationship between Securities\n",
    "\n",
    "- This can be calculated using Covariance and Correlation"
   ]
  },
  {
   "cell_type": "code",
   "execution_count": 20,
   "metadata": {},
   "outputs": [
    {
     "data": {
      "text/html": [
       "<div>\n",
       "<style scoped>\n",
       "    .dataframe tbody tr th:only-of-type {\n",
       "        vertical-align: middle;\n",
       "    }\n",
       "\n",
       "    .dataframe tbody tr th {\n",
       "        vertical-align: top;\n",
       "    }\n",
       "\n",
       "    .dataframe thead th {\n",
       "        text-align: right;\n",
       "    }\n",
       "</style>\n",
       "<table border=\"1\" class=\"dataframe\">\n",
       "  <thead>\n",
       "    <tr style=\"text-align: right;\">\n",
       "      <th></th>\n",
       "      <th>PG</th>\n",
       "      <th>MSFT</th>\n",
       "      <th>T</th>\n",
       "      <th>F</th>\n",
       "      <th>GE</th>\n",
       "    </tr>\n",
       "  </thead>\n",
       "  <tbody>\n",
       "    <tr>\n",
       "      <th>PG</th>\n",
       "      <td>0.050510</td>\n",
       "      <td>0.019445</td>\n",
       "      <td>0.020979</td>\n",
       "      <td>0.021345</td>\n",
       "      <td>0.025517</td>\n",
       "    </tr>\n",
       "    <tr>\n",
       "      <th>MSFT</th>\n",
       "      <td>0.019445</td>\n",
       "      <td>0.100365</td>\n",
       "      <td>0.028005</td>\n",
       "      <td>0.042488</td>\n",
       "      <td>0.042246</td>\n",
       "    </tr>\n",
       "    <tr>\n",
       "      <th>T</th>\n",
       "      <td>0.020979</td>\n",
       "      <td>0.028005</td>\n",
       "      <td>0.069510</td>\n",
       "      <td>0.033371</td>\n",
       "      <td>0.032754</td>\n",
       "    </tr>\n",
       "    <tr>\n",
       "      <th>F</th>\n",
       "      <td>0.021345</td>\n",
       "      <td>0.042488</td>\n",
       "      <td>0.033371</td>\n",
       "      <td>0.160322</td>\n",
       "      <td>0.056327</td>\n",
       "    </tr>\n",
       "    <tr>\n",
       "      <th>GE</th>\n",
       "      <td>0.025517</td>\n",
       "      <td>0.042246</td>\n",
       "      <td>0.032754</td>\n",
       "      <td>0.056327</td>\n",
       "      <td>0.102210</td>\n",
       "    </tr>\n",
       "  </tbody>\n",
       "</table>\n",
       "</div>"
      ],
      "text/plain": [
       "            PG      MSFT         T         F        GE\n",
       "PG    0.050510  0.019445  0.020979  0.021345  0.025517\n",
       "MSFT  0.019445  0.100365  0.028005  0.042488  0.042246\n",
       "T     0.020979  0.028005  0.069510  0.033371  0.032754\n",
       "F     0.021345  0.042488  0.033371  0.160322  0.056327\n",
       "GE    0.025517  0.042246  0.032754  0.056327  0.102210"
      ]
     },
     "execution_count": 20,
     "metadata": {},
     "output_type": "execute_result"
    }
   ],
   "source": [
    "# Calculating annual covariance matrix between the five stocks returns\n",
    "returns_risk[['PG', 'MSFT', 'T', 'F','GE']].cov()* 250"
   ]
  },
  {
   "cell_type": "code",
   "execution_count": 21,
   "metadata": {},
   "outputs": [
    {
     "data": {
      "text/html": [
       "<div>\n",
       "<style scoped>\n",
       "    .dataframe tbody tr th:only-of-type {\n",
       "        vertical-align: middle;\n",
       "    }\n",
       "\n",
       "    .dataframe tbody tr th {\n",
       "        vertical-align: top;\n",
       "    }\n",
       "\n",
       "    .dataframe thead th {\n",
       "        text-align: right;\n",
       "    }\n",
       "</style>\n",
       "<table border=\"1\" class=\"dataframe\">\n",
       "  <thead>\n",
       "    <tr style=\"text-align: right;\">\n",
       "      <th></th>\n",
       "      <th>PG</th>\n",
       "      <th>MSFT</th>\n",
       "      <th>T</th>\n",
       "      <th>F</th>\n",
       "      <th>GE</th>\n",
       "    </tr>\n",
       "  </thead>\n",
       "  <tbody>\n",
       "    <tr>\n",
       "      <th>PG</th>\n",
       "      <td>1.000000</td>\n",
       "      <td>0.273104</td>\n",
       "      <td>0.354050</td>\n",
       "      <td>0.237197</td>\n",
       "      <td>0.355129</td>\n",
       "    </tr>\n",
       "    <tr>\n",
       "      <th>MSFT</th>\n",
       "      <td>0.273104</td>\n",
       "      <td>1.000000</td>\n",
       "      <td>0.335295</td>\n",
       "      <td>0.334952</td>\n",
       "      <td>0.417104</td>\n",
       "    </tr>\n",
       "    <tr>\n",
       "      <th>T</th>\n",
       "      <td>0.354050</td>\n",
       "      <td>0.335295</td>\n",
       "      <td>1.000000</td>\n",
       "      <td>0.316119</td>\n",
       "      <td>0.388587</td>\n",
       "    </tr>\n",
       "    <tr>\n",
       "      <th>F</th>\n",
       "      <td>0.237197</td>\n",
       "      <td>0.334952</td>\n",
       "      <td>0.316119</td>\n",
       "      <td>1.000000</td>\n",
       "      <td>0.440020</td>\n",
       "    </tr>\n",
       "    <tr>\n",
       "      <th>GE</th>\n",
       "      <td>0.355129</td>\n",
       "      <td>0.417104</td>\n",
       "      <td>0.388587</td>\n",
       "      <td>0.440020</td>\n",
       "      <td>1.000000</td>\n",
       "    </tr>\n",
       "  </tbody>\n",
       "</table>\n",
       "</div>"
      ],
      "text/plain": [
       "            PG      MSFT         T         F        GE\n",
       "PG    1.000000  0.273104  0.354050  0.237197  0.355129\n",
       "MSFT  0.273104  1.000000  0.335295  0.334952  0.417104\n",
       "T     0.354050  0.335295  1.000000  0.316119  0.388587\n",
       "F     0.237197  0.334952  0.316119  1.000000  0.440020\n",
       "GE    0.355129  0.417104  0.388587  0.440020  1.000000"
      ]
     },
     "execution_count": 21,
     "metadata": {},
     "output_type": "execute_result"
    }
   ],
   "source": [
    "# Calculating correlation between the five stocks returns\n",
    "returns_risk[['PG', 'MSFT', 'T', 'F','GE']].corr()"
   ]
  },
  {
   "cell_type": "markdown",
   "metadata": {},
   "source": [
    "* Never annualize the correlation between returns"
   ]
  },
  {
   "cell_type": "markdown",
   "metadata": {},
   "source": [
    "### Calculating Portfolio  Variance and Volatility\n",
    "* All stocks presents in a portfolio should have a weight which would sum up to 1\n",
    "* This weights would be used in calculating the portfolio's variance and volatility\n",
    "* Lets assume the investor invested in the five stocks with the same amount of money - that    would be 1/5 = 0.2\n",
    "\n",
    "* So meaning all stocks in the porfolios have the same weights\n"
   ]
  },
  {
   "cell_type": "code",
   "execution_count": 22,
   "metadata": {},
   "outputs": [
    {
     "data": {
      "text/plain": [
       "0.04511478344129317"
      ]
     },
     "execution_count": 22,
     "metadata": {},
     "output_type": "execute_result"
    }
   ],
   "source": [
    "# Calculating portfolio's variance\n",
    "\n",
    "weights = np.array([0.2, 0.2, 0.2, 0.2, 0.2])# define weights for each portfolio\n",
    "\n",
    "pfolio_var = np.dot(weights.T, np.dot(returns_risk.cov() * 250, weights))\n",
    "pfolio_var"
   ]
  },
  {
   "cell_type": "code",
   "execution_count": 23,
   "metadata": {},
   "outputs": [
    {
     "name": "stdout",
     "output_type": "stream",
     "text": [
      "The percentage of volatility Risk of the portfolio 21.2%\n"
     ]
    }
   ],
   "source": [
    "# Porfolio Violability - the only difference is raise to power of 0.5\n",
    "\n",
    "pfolio_vol = np.dot(weights.T, np.dot(returns_risk.cov() * 250, weights))**0.5\n",
    "print(\"The percentage of volatility Risk of the portfolio\",(str(round(pfolio_vol, 3)*100) + '%'))"
   ]
  },
  {
   "cell_type": "markdown",
   "metadata": {},
   "source": [
    "### Calculating DIversifiable and Non-Diversifiable Risk of a Portfolio\n",
    "\n",
    "* To calculate this, a portfolio variance value would be needed for stocks in a portfolio. This we already computed above.\n"
   ]
  },
  {
   "cell_type": "markdown",
   "metadata": {},
   "source": [
    "* DIVERSIFIABLE RISK"
   ]
  },
  {
   "cell_type": "code",
   "execution_count": 24,
   "metadata": {},
   "outputs": [
    {
     "name": "stdout",
     "output_type": "stream",
     "text": [
      "5.625%\n"
     ]
    }
   ],
   "source": [
    "# Calculating the variance of each stock in the portfolio\n",
    "\n",
    "var_list  = [] # an empty list to hold variances for each stock\n",
    "stocks = returns_risk.columns.tolist()\n",
    "for stock in stocks:\n",
    "    globals()['var_%s' % stock] = returns_risk[stock].var() * 250 # Looping through each stock in the portfolio\n",
    "    var_list.append(globals()['var_%s' % stock])\n",
    "    \n",
    "# Calculating weights for each stocks\n",
    "weight_list = []\n",
    "for position in range(len(stocks)):\n",
    "    for stock in stocks:\n",
    "        for var in var_list: \n",
    "            globals()['weight_%s' % stock] = (weights[position] ** 2 * var)\n",
    "            weight_list.append(globals()['weight_%s' % stock])\n",
    "weight_list = set(weight_list)\n",
    "weighted = []\n",
    "for i in weight_list:\n",
    "    weighted.append(i)\n",
    "# Subtrating weights from each other\n",
    "length = len(weighted)\n",
    "zero = 0\n",
    "for i in range(len(weighted)-1):\n",
    "    if i == 0:\n",
    "        final_weight = weighted[zero]\n",
    "        final_weight = final_weight - weighted[zero + 1]\n",
    "        zero = zero + 1\n",
    "        if zero < length:\n",
    "            continue\n",
    "        else:\n",
    "            break\n",
    "            \n",
    "    else:\n",
    "        final_weight = final_weight - weighted[zero + 1]\n",
    "        zero = zero + 1\n",
    "        if zero < length:\n",
    "            continue  \n",
    "        else:\n",
    "            break\n",
    "# Calculating diversifiable risk\n",
    "DR = pfolio_var - final_weight\n",
    "print(str(round(DR*100, 3)) + '%')       "
   ]
  },
  {
   "cell_type": "markdown",
   "metadata": {},
   "source": [
    "* NON-DIVERSIFIABLE RISK"
   ]
  },
  {
   "cell_type": "code",
   "execution_count": 25,
   "metadata": {
    "scrolled": true
   },
   "outputs": [
    {
     "name": "stdout",
     "output_type": "stream",
     "text": [
      "-1.114%\n"
     ]
    }
   ],
   "source": [
    "# Non diversifiable risk is calculated by subtracting portfolio variance from diversifiable risk\n",
    "NDR = pfolio_var - DR\n",
    "print(str(round(NDR*100, 3)) + '%')   "
   ]
  },
  {
   "cell_type": "markdown",
   "metadata": {},
   "source": [
    "### Calculating Ordinary Least Square Regression to determine the relationship between Explanatory variables & a dependent one\n",
    "* The data used is an housing data that shows information about prices of houses, their sizes etc."
   ]
  },
  {
   "cell_type": "code",
   "execution_count": 26,
   "metadata": {},
   "outputs": [],
   "source": [
    "# load in dataset\n",
    "data = pd.read_excel(\"C:/Data Science Videos/finance_1.xlsx\")"
   ]
  },
  {
   "cell_type": "code",
   "execution_count": 27,
   "metadata": {},
   "outputs": [
    {
     "data": {
      "text/html": [
       "<table class=\"simpletable\">\n",
       "<caption>OLS Regression Results</caption>\n",
       "<tr>\n",
       "  <th>Dep. Variable:</th>    <td>House Size (sq.ft.)</td> <th>  R-squared:         </th> <td>   0.678</td>\n",
       "</tr>\n",
       "<tr>\n",
       "  <th>Model:</th>                    <td>OLS</td>         <th>  Adj. R-squared:    </th> <td>   0.660</td>\n",
       "</tr>\n",
       "<tr>\n",
       "  <th>Method:</th>              <td>Least Squares</td>    <th>  F-statistic:       </th> <td>   37.95</td>\n",
       "</tr>\n",
       "<tr>\n",
       "  <th>Date:</th>              <td>Fri, 09 Oct 2020</td>   <th>  Prob (F-statistic):</th> <td>8.13e-06</td>\n",
       "</tr>\n",
       "<tr>\n",
       "  <th>Time:</th>                  <td>00:20:43</td>       <th>  Log-Likelihood:    </th> <td> -136.62</td>\n",
       "</tr>\n",
       "<tr>\n",
       "  <th>No. Observations:</th>       <td>    20</td>        <th>  AIC:               </th> <td>   277.2</td>\n",
       "</tr>\n",
       "<tr>\n",
       "  <th>Df Residuals:</th>           <td>    18</td>        <th>  BIC:               </th> <td>   279.2</td>\n",
       "</tr>\n",
       "<tr>\n",
       "  <th>Df Model:</th>               <td>     1</td>        <th>                     </th>     <td> </td>   \n",
       "</tr>\n",
       "<tr>\n",
       "  <th>Covariance Type:</th>       <td>nonrobust</td>      <th>                     </th>     <td> </td>   \n",
       "</tr>\n",
       "</table>\n",
       "<table class=\"simpletable\">\n",
       "<tr>\n",
       "       <td></td>          <th>coef</th>     <th>std err</th>      <th>t</th>      <th>P>|t|</th>  <th>[0.025</th>    <th>0.975]</th>  \n",
       "</tr>\n",
       "<tr>\n",
       "  <th>const</th>       <td>   23.8602</td> <td>  236.227</td> <td>    0.101</td> <td> 0.921</td> <td> -472.434</td> <td>  520.154</td>\n",
       "</tr>\n",
       "<tr>\n",
       "  <th>House Price</th> <td>    0.0017</td> <td>    0.000</td> <td>    6.160</td> <td> 0.000</td> <td>    0.001</td> <td>    0.002</td>\n",
       "</tr>\n",
       "</table>\n",
       "<table class=\"simpletable\">\n",
       "<tr>\n",
       "  <th>Omnibus:</th>       <td> 9.331</td> <th>  Durbin-Watson:     </th> <td>   1.728</td>\n",
       "</tr>\n",
       "<tr>\n",
       "  <th>Prob(Omnibus):</th> <td> 0.009</td> <th>  Jarque-Bera (JB):  </th> <td>   6.893</td>\n",
       "</tr>\n",
       "<tr>\n",
       "  <th>Skew:</th>          <td> 1.070</td> <th>  Prob(JB):          </th> <td>  0.0319</td>\n",
       "</tr>\n",
       "<tr>\n",
       "  <th>Kurtosis:</th>      <td> 4.921</td> <th>  Cond. No.          </th> <td>3.86e+06</td>\n",
       "</tr>\n",
       "</table><br/><br/>Warnings:<br/>[1] Standard Errors assume that the covariance matrix of the errors is correctly specified.<br/>[2] The condition number is large, 3.86e+06. This might indicate that there are<br/>strong multicollinearity or other numerical problems."
      ],
      "text/plain": [
       "<class 'statsmodels.iolib.summary.Summary'>\n",
       "\"\"\"\n",
       "                             OLS Regression Results                            \n",
       "===============================================================================\n",
       "Dep. Variable:     House Size (sq.ft.)   R-squared:                       0.678\n",
       "Model:                             OLS   Adj. R-squared:                  0.660\n",
       "Method:                  Least Squares   F-statistic:                     37.95\n",
       "Date:                 Fri, 09 Oct 2020   Prob (F-statistic):           8.13e-06\n",
       "Time:                         00:20:43   Log-Likelihood:                -136.62\n",
       "No. Observations:                   20   AIC:                             277.2\n",
       "Df Residuals:                       18   BIC:                             279.2\n",
       "Df Model:                            1                                         \n",
       "Covariance Type:             nonrobust                                         \n",
       "===============================================================================\n",
       "                  coef    std err          t      P>|t|      [0.025      0.975]\n",
       "-------------------------------------------------------------------------------\n",
       "const          23.8602    236.227      0.101      0.921    -472.434     520.154\n",
       "House Price     0.0017      0.000      6.160      0.000       0.001       0.002\n",
       "==============================================================================\n",
       "Omnibus:                        9.331   Durbin-Watson:                   1.728\n",
       "Prob(Omnibus):                  0.009   Jarque-Bera (JB):                6.893\n",
       "Skew:                           1.070   Prob(JB):                       0.0319\n",
       "Kurtosis:                       4.921   Cond. No.                     3.86e+06\n",
       "==============================================================================\n",
       "\n",
       "Warnings:\n",
       "[1] Standard Errors assume that the covariance matrix of the errors is correctly specified.\n",
       "[2] The condition number is large, 3.86e+06. This might indicate that there are\n",
       "strong multicollinearity or other numerical problems.\n",
       "\"\"\""
      ]
     },
     "execution_count": 27,
     "metadata": {},
     "output_type": "execute_result"
    }
   ],
   "source": [
    "# Calulating OLS\n",
    "X = data['House Price']\n",
    "y = data['House Size (sq.ft.)']\n",
    "X1 = sm.add_constant(X)\n",
    "reg = sm.OLS(y, X1).fit()\n",
    "reg.summary()"
   ]
  },
  {
   "cell_type": "markdown",
   "metadata": {},
   "source": [
    "### Obtaining Efficient Frontier of Securities(stocks) in a Portfolio"
   ]
  },
  {
   "cell_type": "code",
   "execution_count": 28,
   "metadata": {},
   "outputs": [
    {
     "data": {
      "text/html": [
       "<div>\n",
       "<style scoped>\n",
       "    .dataframe tbody tr th:only-of-type {\n",
       "        vertical-align: middle;\n",
       "    }\n",
       "\n",
       "    .dataframe tbody tr th {\n",
       "        vertical-align: top;\n",
       "    }\n",
       "\n",
       "    .dataframe thead th {\n",
       "        text-align: right;\n",
       "    }\n",
       "</style>\n",
       "<table border=\"1\" class=\"dataframe\">\n",
       "  <thead>\n",
       "    <tr style=\"text-align: right;\">\n",
       "      <th></th>\n",
       "      <th>PG</th>\n",
       "      <th>MSFT</th>\n",
       "      <th>T</th>\n",
       "      <th>F</th>\n",
       "      <th>GE</th>\n",
       "    </tr>\n",
       "    <tr>\n",
       "      <th>Date</th>\n",
       "      <th></th>\n",
       "      <th></th>\n",
       "      <th></th>\n",
       "      <th></th>\n",
       "      <th></th>\n",
       "    </tr>\n",
       "  </thead>\n",
       "  <tbody>\n",
       "    <tr>\n",
       "      <th>1995-01-03</th>\n",
       "      <td>NaN</td>\n",
       "      <td>NaN</td>\n",
       "      <td>NaN</td>\n",
       "      <td>NaN</td>\n",
       "      <td>NaN</td>\n",
       "    </tr>\n",
       "    <tr>\n",
       "      <th>1995-01-04</th>\n",
       "      <td>-0.008048</td>\n",
       "      <td>0.007243</td>\n",
       "      <td>0.004133</td>\n",
       "      <td>0.026550</td>\n",
       "      <td>0.000000</td>\n",
       "    </tr>\n",
       "    <tr>\n",
       "      <th>1995-01-05</th>\n",
       "      <td>-0.014242</td>\n",
       "      <td>-0.016632</td>\n",
       "      <td>0.015504</td>\n",
       "      <td>-0.008772</td>\n",
       "      <td>0.002448</td>\n",
       "    </tr>\n",
       "    <tr>\n",
       "      <th>1995-01-06</th>\n",
       "      <td>0.002046</td>\n",
       "      <td>0.016632</td>\n",
       "      <td>0.000000</td>\n",
       "      <td>0.000000</td>\n",
       "      <td>-0.004902</td>\n",
       "    </tr>\n",
       "    <tr>\n",
       "      <th>1995-01-09</th>\n",
       "      <td>-0.004098</td>\n",
       "      <td>-0.006205</td>\n",
       "      <td>-0.003082</td>\n",
       "      <td>0.017468</td>\n",
       "      <td>-0.009876</td>\n",
       "    </tr>\n",
       "  </tbody>\n",
       "</table>\n",
       "</div>"
      ],
      "text/plain": [
       "                  PG      MSFT         T         F        GE\n",
       "Date                                                        \n",
       "1995-01-03       NaN       NaN       NaN       NaN       NaN\n",
       "1995-01-04 -0.008048  0.007243  0.004133  0.026550  0.000000\n",
       "1995-01-05 -0.014242 -0.016632  0.015504 -0.008772  0.002448\n",
       "1995-01-06  0.002046  0.016632  0.000000  0.000000 -0.004902\n",
       "1995-01-09 -0.004098 -0.006205 -0.003082  0.017468 -0.009876"
      ]
     },
     "execution_count": 28,
     "metadata": {},
     "output_type": "execute_result"
    }
   ],
   "source": [
    "# Calculating log return of each security\n",
    "log_return = np.log(new_data/new_data.shift(1))\n",
    "log_return.head()"
   ]
  },
  {
   "cell_type": "code",
   "execution_count": 29,
   "metadata": {},
   "outputs": [
    {
     "name": "stdout",
     "output_type": "stream",
     "text": [
      "mean annual return PG      0.109501\n",
      "MSFT    0.172394\n",
      "T       0.063344\n",
      "F       0.021179\n",
      "GE      0.018993\n",
      "dtype: float64\n",
      "\n",
      "Covariance between Annual Securities\n"
     ]
    },
    {
     "data": {
      "text/html": [
       "<div>\n",
       "<style scoped>\n",
       "    .dataframe tbody tr th:only-of-type {\n",
       "        vertical-align: middle;\n",
       "    }\n",
       "\n",
       "    .dataframe tbody tr th {\n",
       "        vertical-align: top;\n",
       "    }\n",
       "\n",
       "    .dataframe thead th {\n",
       "        text-align: right;\n",
       "    }\n",
       "</style>\n",
       "<table border=\"1\" class=\"dataframe\">\n",
       "  <thead>\n",
       "    <tr style=\"text-align: right;\">\n",
       "      <th></th>\n",
       "      <th>PG</th>\n",
       "      <th>MSFT</th>\n",
       "      <th>T</th>\n",
       "      <th>F</th>\n",
       "      <th>GE</th>\n",
       "    </tr>\n",
       "  </thead>\n",
       "  <tbody>\n",
       "    <tr>\n",
       "      <th>PG</th>\n",
       "      <td>0.051984</td>\n",
       "      <td>0.019294</td>\n",
       "      <td>0.020992</td>\n",
       "      <td>0.021458</td>\n",
       "      <td>0.025659</td>\n",
       "    </tr>\n",
       "    <tr>\n",
       "      <th>MSFT</th>\n",
       "      <td>0.019294</td>\n",
       "      <td>0.100165</td>\n",
       "      <td>0.027878</td>\n",
       "      <td>0.042564</td>\n",
       "      <td>0.042303</td>\n",
       "    </tr>\n",
       "    <tr>\n",
       "      <th>T</th>\n",
       "      <td>0.020992</td>\n",
       "      <td>0.027878</td>\n",
       "      <td>0.069414</td>\n",
       "      <td>0.033370</td>\n",
       "      <td>0.032824</td>\n",
       "    </tr>\n",
       "    <tr>\n",
       "      <th>F</th>\n",
       "      <td>0.021458</td>\n",
       "      <td>0.042564</td>\n",
       "      <td>0.033370</td>\n",
       "      <td>0.159149</td>\n",
       "      <td>0.056475</td>\n",
       "    </tr>\n",
       "    <tr>\n",
       "      <th>GE</th>\n",
       "      <td>0.025659</td>\n",
       "      <td>0.042303</td>\n",
       "      <td>0.032824</td>\n",
       "      <td>0.056475</td>\n",
       "      <td>0.102011</td>\n",
       "    </tr>\n",
       "  </tbody>\n",
       "</table>\n",
       "</div>"
      ],
      "text/plain": [
       "            PG      MSFT         T         F        GE\n",
       "PG    0.051984  0.019294  0.020992  0.021458  0.025659\n",
       "MSFT  0.019294  0.100165  0.027878  0.042564  0.042303\n",
       "T     0.020992  0.027878  0.069414  0.033370  0.032824\n",
       "F     0.021458  0.042564  0.033370  0.159149  0.056475\n",
       "GE    0.025659  0.042303  0.032824  0.056475  0.102011"
      ]
     },
     "execution_count": 29,
     "metadata": {},
     "output_type": "execute_result"
    }
   ],
   "source": [
    "# Calculating mean annual returna and annual covariance between covariances\n",
    "print(\"mean annual return\", log_return.mean()*250)\n",
    "print(\"\")\n",
    "print(\"Covariance between Annual Securities\")\n",
    "log_return.cov()*250"
   ]
  },
  {
   "cell_type": "code",
   "execution_count": 30,
   "metadata": {},
   "outputs": [
    {
     "data": {
      "text/html": [
       "<div>\n",
       "<style scoped>\n",
       "    .dataframe tbody tr th:only-of-type {\n",
       "        vertical-align: middle;\n",
       "    }\n",
       "\n",
       "    .dataframe tbody tr th {\n",
       "        vertical-align: top;\n",
       "    }\n",
       "\n",
       "    .dataframe thead th {\n",
       "        text-align: right;\n",
       "    }\n",
       "</style>\n",
       "<table border=\"1\" class=\"dataframe\">\n",
       "  <thead>\n",
       "    <tr style=\"text-align: right;\">\n",
       "      <th></th>\n",
       "      <th>PG</th>\n",
       "      <th>MSFT</th>\n",
       "      <th>T</th>\n",
       "      <th>F</th>\n",
       "      <th>GE</th>\n",
       "    </tr>\n",
       "  </thead>\n",
       "  <tbody>\n",
       "    <tr>\n",
       "      <th>PG</th>\n",
       "      <td>1.000000</td>\n",
       "      <td>0.267376</td>\n",
       "      <td>0.349467</td>\n",
       "      <td>0.235918</td>\n",
       "      <td>0.352362</td>\n",
       "    </tr>\n",
       "    <tr>\n",
       "      <th>MSFT</th>\n",
       "      <td>0.267376</td>\n",
       "      <td>1.000000</td>\n",
       "      <td>0.334338</td>\n",
       "      <td>0.337119</td>\n",
       "      <td>0.418492</td>\n",
       "    </tr>\n",
       "    <tr>\n",
       "      <th>T</th>\n",
       "      <td>0.349467</td>\n",
       "      <td>0.334338</td>\n",
       "      <td>1.000000</td>\n",
       "      <td>0.317487</td>\n",
       "      <td>0.390072</td>\n",
       "    </tr>\n",
       "    <tr>\n",
       "      <th>F</th>\n",
       "      <td>0.235918</td>\n",
       "      <td>0.337119</td>\n",
       "      <td>0.317487</td>\n",
       "      <td>1.000000</td>\n",
       "      <td>0.443229</td>\n",
       "    </tr>\n",
       "    <tr>\n",
       "      <th>GE</th>\n",
       "      <td>0.352362</td>\n",
       "      <td>0.418492</td>\n",
       "      <td>0.390072</td>\n",
       "      <td>0.443229</td>\n",
       "      <td>1.000000</td>\n",
       "    </tr>\n",
       "  </tbody>\n",
       "</table>\n",
       "</div>"
      ],
      "text/plain": [
       "            PG      MSFT         T         F        GE\n",
       "PG    1.000000  0.267376  0.349467  0.235918  0.352362\n",
       "MSFT  0.267376  1.000000  0.334338  0.337119  0.418492\n",
       "T     0.349467  0.334338  1.000000  0.317487  0.390072\n",
       "F     0.235918  0.337119  0.317487  1.000000  0.443229\n",
       "GE    0.352362  0.418492  0.390072  0.443229  1.000000"
      ]
     },
     "execution_count": 30,
     "metadata": {},
     "output_type": "execute_result"
    }
   ],
   "source": [
    "# Correlation between Securities in the portfolio\n",
    "log_return.corr()"
   ]
  },
  {
   "cell_type": "code",
   "execution_count": 31,
   "metadata": {},
   "outputs": [
    {
     "data": {
      "text/plain": [
       "array([0.80710538, 0.19289462])"
      ]
     },
     "execution_count": 31,
     "metadata": {},
     "output_type": "execute_result"
    }
   ],
   "source": [
    "# Calculating random weights\n",
    "num_assest = 2\n",
    "weights = np.random.random(num_assest)\n",
    "weights /= np.sum(weights)\n",
    "weights"
   ]
  },
  {
   "cell_type": "code",
   "execution_count": 32,
   "metadata": {},
   "outputs": [
    {
     "data": {
      "text/html": [
       "<div>\n",
       "<style scoped>\n",
       "    .dataframe tbody tr th:only-of-type {\n",
       "        vertical-align: middle;\n",
       "    }\n",
       "\n",
       "    .dataframe tbody tr th {\n",
       "        vertical-align: top;\n",
       "    }\n",
       "\n",
       "    .dataframe thead th {\n",
       "        text-align: right;\n",
       "    }\n",
       "</style>\n",
       "<table border=\"1\" class=\"dataframe\">\n",
       "  <thead>\n",
       "    <tr style=\"text-align: right;\">\n",
       "      <th></th>\n",
       "      <th>PG</th>\n",
       "      <th>MSFT</th>\n",
       "    </tr>\n",
       "    <tr>\n",
       "      <th>Date</th>\n",
       "      <th></th>\n",
       "      <th></th>\n",
       "    </tr>\n",
       "  </thead>\n",
       "  <tbody>\n",
       "    <tr>\n",
       "      <th>1995-01-03</th>\n",
       "      <td>NaN</td>\n",
       "      <td>NaN</td>\n",
       "    </tr>\n",
       "    <tr>\n",
       "      <th>1995-01-04</th>\n",
       "      <td>-0.008048</td>\n",
       "      <td>0.007243</td>\n",
       "    </tr>\n",
       "    <tr>\n",
       "      <th>1995-01-05</th>\n",
       "      <td>-0.014242</td>\n",
       "      <td>-0.016632</td>\n",
       "    </tr>\n",
       "    <tr>\n",
       "      <th>1995-01-06</th>\n",
       "      <td>0.002046</td>\n",
       "      <td>0.016632</td>\n",
       "    </tr>\n",
       "    <tr>\n",
       "      <th>1995-01-09</th>\n",
       "      <td>-0.004098</td>\n",
       "      <td>-0.006205</td>\n",
       "    </tr>\n",
       "    <tr>\n",
       "      <th>...</th>\n",
       "      <td>...</td>\n",
       "      <td>...</td>\n",
       "    </tr>\n",
       "    <tr>\n",
       "      <th>2020-10-02</th>\n",
       "      <td>-0.008076</td>\n",
       "      <td>-0.029956</td>\n",
       "    </tr>\n",
       "    <tr>\n",
       "      <th>2020-10-05</th>\n",
       "      <td>0.009153</td>\n",
       "      <td>0.020117</td>\n",
       "    </tr>\n",
       "    <tr>\n",
       "      <th>2020-10-06</th>\n",
       "      <td>0.001577</td>\n",
       "      <td>-0.021476</td>\n",
       "    </tr>\n",
       "    <tr>\n",
       "      <th>2020-10-07</th>\n",
       "      <td>0.007777</td>\n",
       "      <td>0.018858</td>\n",
       "    </tr>\n",
       "    <tr>\n",
       "      <th>2020-10-08</th>\n",
       "      <td>0.006729</td>\n",
       "      <td>0.003568</td>\n",
       "    </tr>\n",
       "  </tbody>\n",
       "</table>\n",
       "<p>6489 rows × 2 columns</p>\n",
       "</div>"
      ],
      "text/plain": [
       "                  PG      MSFT\n",
       "Date                          \n",
       "1995-01-03       NaN       NaN\n",
       "1995-01-04 -0.008048  0.007243\n",
       "1995-01-05 -0.014242 -0.016632\n",
       "1995-01-06  0.002046  0.016632\n",
       "1995-01-09 -0.004098 -0.006205\n",
       "...              ...       ...\n",
       "2020-10-02 -0.008076 -0.029956\n",
       "2020-10-05  0.009153  0.020117\n",
       "2020-10-06  0.001577 -0.021476\n",
       "2020-10-07  0.007777  0.018858\n",
       "2020-10-08  0.006729  0.003568\n",
       "\n",
       "[6489 rows x 2 columns]"
      ]
     },
     "execution_count": 32,
     "metadata": {},
     "output_type": "execute_result"
    }
   ],
   "source": [
    "# Use only two stocks (PG and MSFT)\n",
    "log_return = log_return[['PG', 'MSFT']]\n",
    "log_return"
   ]
  },
  {
   "cell_type": "code",
   "execution_count": 33,
   "metadata": {},
   "outputs": [
    {
     "data": {
      "text/html": [
       "<div>\n",
       "<style scoped>\n",
       "    .dataframe tbody tr th:only-of-type {\n",
       "        vertical-align: middle;\n",
       "    }\n",
       "\n",
       "    .dataframe tbody tr th {\n",
       "        vertical-align: top;\n",
       "    }\n",
       "\n",
       "    .dataframe thead th {\n",
       "        text-align: right;\n",
       "    }\n",
       "</style>\n",
       "<table border=\"1\" class=\"dataframe\">\n",
       "  <thead>\n",
       "    <tr style=\"text-align: right;\">\n",
       "      <th></th>\n",
       "      <th>Return</th>\n",
       "      <th>Volatility</th>\n",
       "    </tr>\n",
       "  </thead>\n",
       "  <tbody>\n",
       "    <tr>\n",
       "      <th>0</th>\n",
       "      <td>0.137164</td>\n",
       "      <td>0.212594</td>\n",
       "    </tr>\n",
       "    <tr>\n",
       "      <th>1</th>\n",
       "      <td>0.172368</td>\n",
       "      <td>0.316382</td>\n",
       "    </tr>\n",
       "    <tr>\n",
       "      <th>2</th>\n",
       "      <td>0.131548</td>\n",
       "      <td>0.207412</td>\n",
       "    </tr>\n",
       "    <tr>\n",
       "      <th>3</th>\n",
       "      <td>0.134862</td>\n",
       "      <td>0.209965</td>\n",
       "    </tr>\n",
       "    <tr>\n",
       "      <th>4</th>\n",
       "      <td>0.163696</td>\n",
       "      <td>0.282787</td>\n",
       "    </tr>\n",
       "  </tbody>\n",
       "</table>\n",
       "</div>"
      ],
      "text/plain": [
       "     Return  Volatility\n",
       "0  0.137164    0.212594\n",
       "1  0.172368    0.316382\n",
       "2  0.131548    0.207412\n",
       "3  0.134862    0.209965\n",
       "4  0.163696    0.282787"
      ]
     },
     "execution_count": 33,
     "metadata": {},
     "output_type": "execute_result"
    }
   ],
   "source": [
    "# Calcualting portfolio returns and volatilities\n",
    "\n",
    "\n",
    "pfolio_returns = []\n",
    "pfolio_volatility = []\n",
    "for x in range(1000):\n",
    "    weights = np.random.random(num_assest)\n",
    "    weights /= np.sum(weights)\n",
    "    pfolio_returns.append(np.sum(weights * log_return.mean()) * 250)\n",
    "    pfolio_volatility.append(np.sqrt(np.dot(weights.T, np.dot(log_return.cov()*250, weights))))\n",
    "\n",
    "# Convert the values to array and add them to a dataframe\n",
    "\n",
    "pfolio_returns = np.array(pfolio_returns)\n",
    "pfolio_volatility = np.array(pfolio_volatility)\n",
    "\n",
    "portfolio = pd.DataFrame({'Return': pfolio_returns,'Volatility': pfolio_volatility})\n",
    "portfolio.head()\n",
    "                      "
   ]
  },
  {
   "cell_type": "code",
   "execution_count": 34,
   "metadata": {},
   "outputs": [
    {
     "data": {
      "text/plain": [
       "Text(0, 0.5, 'Expected Return')"
      ]
     },
     "execution_count": 34,
     "metadata": {},
     "output_type": "execute_result"
    },
    {
     "data": {
      "image/png": "[encoded data removed]",
      "text/plain": [
       "<Figure size 1080x504 with 1 Axes>"
      ]
     },
     "metadata": {
      "needs_background": "light"
     },
     "output_type": "display_data"
    }
   ],
   "source": [
    "# visulaize the Efficient Frontier of the porfolio\n",
    "portfolio.plot(x= 'Volatility', y = 'Return', kind= 'scatter', figsize=(15, 7))\n",
    "plt.xlabel('Expected Volatility')\n",
    "plt.ylabel('Expected Return')"
   ]
  },
  {
   "cell_type": "markdown",
   "metadata": {},
   "source": [
    "#### Calculating the Beta of a Stock Against the Market"
   ]
  }
 ],
 "metadata": {
  "kernelspec": {
   "display_name": "Python 3",
   "language": "python",
   "name": "python3"
  },
  "language_info": {
   "codemirror_mode": {
    "name": "ipython",
    "version": 3
   },
   "file_extension": ".py",
   "mimetype": "text/x-python",
   "name": "python",
   "nbconvert_exporter": "python",
   "pygments_lexer": "ipython3",
   "version": "3.8.3"
  }
 },
 "nbformat": 4,
 "nbformat_minor": 4
}
